{
  "nbformat": 4,
  "nbformat_minor": 0,
  "metadata": {
    "colab": {
      "name": "ml.ipynb",
      "provenance": [],
      "mount_file_id": "1b9Zon4PP00_aTLupu3SFWVeNauamPEGH",
      "authorship_tag": "ABX9TyNqtH0j5jO5eaygBiO8lFEI",
      "include_colab_link": true
    },
    "kernelspec": {
      "name": "python3",
      "display_name": "Python 3"
    }
  },
  "cells": [
    {
      "cell_type": "markdown",
      "metadata": {
        "id": "view-in-github",
        "colab_type": "text"
      },
      "source": [
        "<a href=\"https://colab.research.google.com/github/Aayush37/minor-project/blob/main/ml.ipynb\" target=\"_parent\"><img src=\"https://colab.research.google.com/assets/colab-badge.svg\" alt=\"Open In Colab\"/></a>"
      ]
    },
    {
      "cell_type": "code",
      "metadata": {
        "id": "LfgMAK2iIqxQ"
      },
      "source": [
        "import os\n",
        "import pandas as pd\n",
        "import matplotlib.pyplot as plt\n",
        "import numpy as np\n",
        "from skimage.io import imread\n",
        "from skimage.transform import resize\n",
        "data=[]\n",
        "images=[]\n",
        "target=[]\n",
        "classification_type=['vehicle','wild animals']\n",
        "path='/content/drive/MyDrive/Training/ML/data'\n",
        "for i in range(len(classification_type)):\n",
        "  img_path=os.listdir(os.path.join(path,classification_type[i]))\n",
        "  for j in img_path:\n",
        "    img=plt.imread(os.path.join(os.path.join(path,classification_type[i]),j))\n",
        "    img_resize=resize(img,(150,150,3))\n",
        "    data.append(img_resize.flatten())\n",
        "    images.append(img_resize)\n",
        "    target.append(i)\n",
        "data=np.array(data)\n",
        "images=np.array(images)\n",
        "target=np.array(target)\n",
        "\n"
      ],
      "execution_count": null,
      "outputs": []
    },
    {
      "cell_type": "code",
      "metadata": {
        "id": "JXBKd73ylffp"
      },
      "source": [
        "from sklearn.model_selection import train_test_split\n",
        "x_train,x_test,y_train,y_test = train_test_split(data,target,train_size=0.7,random_state=0)"
      ],
      "execution_count": null,
      "outputs": []
    },
    {
      "cell_type": "code",
      "metadata": {
        "id": "RUbAd7EE5lU-"
      },
      "source": [
        "from sklearn.svm import SVC \n",
        "from sklearn.model_selection import GridSearchCV\n",
        "model = SVC()\n",
        "\n",
        "parameters = [{'C':[1,10,100,1000],'kernel':['linear'],\n",
        "               'C':[1,10,100,1000],'kernel':['rbf'],'gamma':[0.1,0.2,0.3,0.4,0.5,0.6,0.7,0.8,0.9]}]\n",
        "grid_search = GridSearchCV(estimator=model,param_grid = parameters,\n",
        "                           scoring='accuracy',cv = 10)\n",
        "\n",
        "grid_search =grid_search.fit(x_train,y_train)"
      ],
      "execution_count": null,
      "outputs": []
    },
    {
      "cell_type": "code",
      "metadata": {
        "colab": {
          "base_uri": "https://localhost:8080/"
        },
        "id": "LBH3rqTxsTOv",
        "outputId": "1d3cb776-35e2-417d-d029-612b85d819b7"
      },
      "source": [
        "grid_search.best_score_"
      ],
      "execution_count": null,
      "outputs": [
        {
          "output_type": "execute_result",
          "data": {
            "text/plain": [
              "0.9714285714285715"
            ]
          },
          "metadata": {
            "tags": []
          },
          "execution_count": 4
        }
      ]
    },
    {
      "cell_type": "code",
      "metadata": {
        "colab": {
          "base_uri": "https://localhost:8080/"
        },
        "id": "FacDmVd-AclE",
        "outputId": "fdab42ea-7d32-42e1-e8c4-9e8d20d73000"
      },
      "source": [
        "grid_search.best_params_"
      ],
      "execution_count": null,
      "outputs": [
        {
          "output_type": "execute_result",
          "data": {
            "text/plain": [
              "{'C': 1, 'gamma': 0.1, 'kernel': 'rbf'}"
            ]
          },
          "metadata": {
            "tags": []
          },
          "execution_count": 5
        }
      ]
    },
    {
      "cell_type": "code",
      "metadata": {
        "colab": {
          "base_uri": "https://localhost:8080/"
        },
        "id": "L7Wf3GjiAm82",
        "outputId": "1120f5a0-01a7-40c0-a076-b9656c0668c7"
      },
      "source": [
        "model=SVC(gamma=0.1,kernel='rbf')\n",
        "model.fit(x_train,y_train)"
      ],
      "execution_count": null,
      "outputs": [
        {
          "output_type": "execute_result",
          "data": {
            "text/plain": [
              "SVC(C=1.0, break_ties=False, cache_size=200, class_weight=None, coef0=0.0,\n",
              "    decision_function_shape='ovr', degree=3, gamma=0.1, kernel='rbf',\n",
              "    max_iter=-1, probability=False, random_state=None, shrinking=True,\n",
              "    tol=0.001, verbose=False)"
            ]
          },
          "metadata": {
            "tags": []
          },
          "execution_count": 6
        }
      ]
    },
    {
      "cell_type": "code",
      "metadata": {
        "id": "-ys82FrNBmq_"
      },
      "source": [
        "y_pred = model.predict(x_test)"
      ],
      "execution_count": null,
      "outputs": []
    },
    {
      "cell_type": "code",
      "metadata": {
        "colab": {
          "base_uri": "https://localhost:8080/"
        },
        "id": "L2N5kHUIBFcG",
        "outputId": "d657c232-d5eb-4290-c608-842ff526a8a4"
      },
      "source": [
        "from sklearn.metrics import accuracy_score,confusion_matrix,classification_report\n",
        "print(accuracy_score(y_pred,y_test))\n",
        "print(confusion_matrix(y_pred,y_test))\n",
        "print(classification_report(y_pred,y_test))"
      ],
      "execution_count": null,
      "outputs": [
        {
          "output_type": "stream",
          "text": [
            "1.0\n",
            "[[14  0]\n",
            " [ 0 16]]\n",
            "              precision    recall  f1-score   support\n",
            "\n",
            "           0       1.00      1.00      1.00        14\n",
            "           1       1.00      1.00      1.00        16\n",
            "\n",
            "    accuracy                           1.00        30\n",
            "   macro avg       1.00      1.00      1.00        30\n",
            "weighted avg       1.00      1.00      1.00        30\n",
            "\n"
          ],
          "name": "stdout"
        }
      ]
    },
    {
      "cell_type": "code",
      "metadata": {
        "colab": {
          "base_uri": "https://localhost:8080/",
          "height": 52
        },
        "id": "VDY48lztGZG5",
        "outputId": "0db67d04-65d0-4c78-8c9f-621b0442d3cb"
      },
      "source": [
        "#testing classification_type(pre[0])\n",
        "image=imread(input('image path'))\n",
        "img_resize=resize(image,(150,150,3))\n",
        "new_data=np.array([img_resize.flatten()])\n",
        "pre=model.predict(new_data)\n",
        "classification_type[pre[0]]"
      ],
      "execution_count": null,
      "outputs": [
        {
          "output_type": "stream",
          "text": [
            "image path/content/drive/MyDrive/Training/ML/data/test/Transperth_Volgren_CR228L_bodied_Volvo_B7RLE.jpg\n"
          ],
          "name": "stdout"
        },
        {
          "output_type": "execute_result",
          "data": {
            "application/vnd.google.colaboratory.intrinsic+json": {
              "type": "string"
            },
            "text/plain": [
              "'vehicle'"
            ]
          },
          "metadata": {
            "tags": []
          },
          "execution_count": 17
        }
      ]
    }
  ]
}